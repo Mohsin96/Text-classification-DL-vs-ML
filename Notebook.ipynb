{
 "cells": [
  {
   "cell_type": "markdown",
   "metadata": {},
   "source": [
    "# Text Classification with Deep Learning vs Machine Learning Approaches\n",
    "\n",
    "**Developer:**  Mayana Mohsin Khan\n"
   ]
  },
  {
   "cell_type": "markdown",
   "metadata": {},
   "source": [
    "## Part 1:  Text Pre Processing with Spacy\n"
   ]
  },
  {
   "cell_type": "markdown",
   "metadata": {},
   "source": [
    " ### Loading Packages\n",
    "- **numpy** : manuplating data.\n",
    "- **pandas** : loading and manuplating data.\n",
    "- **nltk** : preforming vectorization and NLP preprocessing.\n",
    "- **spacy** : preforming advance NLP.\n",
    "- **sklearn** : machine learning approcahes.\n",
    "- **keras** : constructing neural network.\n",
    "- **matplotlib** : visualizaing the data into graphs."
   ]
  },
  {
   "cell_type": "code",
   "execution_count": 1,
   "metadata": {
    "scrolled": false
   },
   "outputs": [
    {
     "name": "stderr",
     "output_type": "stream",
     "text": [
      "Using TensorFlow backend.\n",
      "C:\\Users\\Mohsin Khan\\Anaconda3\\envs\\deeplearning\\lib\\site-packages\\tensorflow\\python\\framework\\dtypes.py:516: FutureWarning: Passing (type, 1) or '1type' as a synonym of type is deprecated; in a future version of numpy, it will be understood as (type, (1,)) / '(1,)type'.\n",
      "  _np_qint8 = np.dtype([(\"qint8\", np.int8, 1)])\n",
      "C:\\Users\\Mohsin Khan\\Anaconda3\\envs\\deeplearning\\lib\\site-packages\\tensorflow\\python\\framework\\dtypes.py:517: FutureWarning: Passing (type, 1) or '1type' as a synonym of type is deprecated; in a future version of numpy, it will be understood as (type, (1,)) / '(1,)type'.\n",
      "  _np_quint8 = np.dtype([(\"quint8\", np.uint8, 1)])\n",
      "C:\\Users\\Mohsin Khan\\Anaconda3\\envs\\deeplearning\\lib\\site-packages\\tensorflow\\python\\framework\\dtypes.py:518: FutureWarning: Passing (type, 1) or '1type' as a synonym of type is deprecated; in a future version of numpy, it will be understood as (type, (1,)) / '(1,)type'.\n",
      "  _np_qint16 = np.dtype([(\"qint16\", np.int16, 1)])\n",
      "C:\\Users\\Mohsin Khan\\Anaconda3\\envs\\deeplearning\\lib\\site-packages\\tensorflow\\python\\framework\\dtypes.py:519: FutureWarning: Passing (type, 1) or '1type' as a synonym of type is deprecated; in a future version of numpy, it will be understood as (type, (1,)) / '(1,)type'.\n",
      "  _np_quint16 = np.dtype([(\"quint16\", np.uint16, 1)])\n",
      "C:\\Users\\Mohsin Khan\\Anaconda3\\envs\\deeplearning\\lib\\site-packages\\tensorflow\\python\\framework\\dtypes.py:520: FutureWarning: Passing (type, 1) or '1type' as a synonym of type is deprecated; in a future version of numpy, it will be understood as (type, (1,)) / '(1,)type'.\n",
      "  _np_qint32 = np.dtype([(\"qint32\", np.int32, 1)])\n",
      "C:\\Users\\Mohsin Khan\\Anaconda3\\envs\\deeplearning\\lib\\site-packages\\tensorflow\\python\\framework\\dtypes.py:525: FutureWarning: Passing (type, 1) or '1type' as a synonym of type is deprecated; in a future version of numpy, it will be understood as (type, (1,)) / '(1,)type'.\n",
      "  np_resource = np.dtype([(\"resource\", np.ubyte, 1)])\n",
      "C:\\Users\\Mohsin Khan\\Anaconda3\\envs\\deeplearning\\lib\\site-packages\\tensorboard\\compat\\tensorflow_stub\\dtypes.py:541: FutureWarning: Passing (type, 1) or '1type' as a synonym of type is deprecated; in a future version of numpy, it will be understood as (type, (1,)) / '(1,)type'.\n",
      "  _np_qint8 = np.dtype([(\"qint8\", np.int8, 1)])\n",
      "C:\\Users\\Mohsin Khan\\Anaconda3\\envs\\deeplearning\\lib\\site-packages\\tensorboard\\compat\\tensorflow_stub\\dtypes.py:542: FutureWarning: Passing (type, 1) or '1type' as a synonym of type is deprecated; in a future version of numpy, it will be understood as (type, (1,)) / '(1,)type'.\n",
      "  _np_quint8 = np.dtype([(\"quint8\", np.uint8, 1)])\n",
      "C:\\Users\\Mohsin Khan\\Anaconda3\\envs\\deeplearning\\lib\\site-packages\\tensorboard\\compat\\tensorflow_stub\\dtypes.py:543: FutureWarning: Passing (type, 1) or '1type' as a synonym of type is deprecated; in a future version of numpy, it will be understood as (type, (1,)) / '(1,)type'.\n",
      "  _np_qint16 = np.dtype([(\"qint16\", np.int16, 1)])\n",
      "C:\\Users\\Mohsin Khan\\Anaconda3\\envs\\deeplearning\\lib\\site-packages\\tensorboard\\compat\\tensorflow_stub\\dtypes.py:544: FutureWarning: Passing (type, 1) or '1type' as a synonym of type is deprecated; in a future version of numpy, it will be understood as (type, (1,)) / '(1,)type'.\n",
      "  _np_quint16 = np.dtype([(\"quint16\", np.uint16, 1)])\n",
      "C:\\Users\\Mohsin Khan\\Anaconda3\\envs\\deeplearning\\lib\\site-packages\\tensorboard\\compat\\tensorflow_stub\\dtypes.py:545: FutureWarning: Passing (type, 1) or '1type' as a synonym of type is deprecated; in a future version of numpy, it will be understood as (type, (1,)) / '(1,)type'.\n",
      "  _np_qint32 = np.dtype([(\"qint32\", np.int32, 1)])\n",
      "C:\\Users\\Mohsin Khan\\Anaconda3\\envs\\deeplearning\\lib\\site-packages\\tensorboard\\compat\\tensorflow_stub\\dtypes.py:550: FutureWarning: Passing (type, 1) or '1type' as a synonym of type is deprecated; in a future version of numpy, it will be understood as (type, (1,)) / '(1,)type'.\n",
      "  np_resource = np.dtype([(\"resource\", np.ubyte, 1)])\n"
     ]
    }
   ],
   "source": [
    "from keras.preprocessing.text import Tokenizer\n",
    "from keras.preprocessing.sequence import sequence\n",
    "from keras.preprocessing.sequence import pad_sequences\n",
    "from keras.models import Sequential\n",
    "from keras.layers import LSTM, Activation, Dense, Embedding\n",
    "\n",
    "import numpy as np \n",
    "import pandas as pd\n",
    "import spacy\n",
    "import regex as re\n",
    "import string\n",
    "\n",
    "from nltk.corpus import stopwords\n",
    "from nltk import word_tokenize    \n",
    "from nltk.tokenize import wordpunct_tokenize\n",
    "from nltk.stem import WordNetLemmatizer\n",
    "\n",
    "from sklearn.metrics import confusion_matrix\n",
    "from sklearn.feature_extraction.text import TfidfVectorizer\n",
    "from sklearn.metrics import precision_score, recall_score, f1_score, accuracy_score, confusion_matrix, matthews_corrcoef\n",
    "from sklearn.linear_model import LogisticRegression\n",
    "from sklearn.naive_bayes import MultinomialNB, GaussianNB,BernoulliNB\n",
    "from sklearn.svm import LinearSVC\n",
    "from sklearn.ensemble import RandomForestClassifier\n",
    "from sklearn.model_selection import cross_val_score"
   ]
  },
  {
   "cell_type": "markdown",
   "metadata": {},
   "source": [
    "### Loading datasets\n",
    "\n",
    "The following operations are preformed:\n",
    "- loading training and testing dataset.\n",
    "- checking the structure of data using df.info().\n",
    "\n",
    "**Training data**"
   ]
  },
  {
   "cell_type": "code",
   "execution_count": 2,
   "metadata": {},
   "outputs": [
    {
     "data": {
      "text/html": [
       "<div>\n",
       "<style scoped>\n",
       "    .dataframe tbody tr th:only-of-type {\n",
       "        vertical-align: middle;\n",
       "    }\n",
       "\n",
       "    .dataframe tbody tr th {\n",
       "        vertical-align: top;\n",
       "    }\n",
       "\n",
       "    .dataframe thead th {\n",
       "        text-align: right;\n",
       "    }\n",
       "</style>\n",
       "<table border=\"1\" class=\"dataframe\">\n",
       "  <thead>\n",
       "    <tr style=\"text-align: right;\">\n",
       "      <th></th>\n",
       "      <th>InfoTheory</th>\n",
       "      <th>CompVis</th>\n",
       "      <th>Math</th>\n",
       "      <th>Abstract</th>\n",
       "    </tr>\n",
       "  </thead>\n",
       "  <tbody>\n",
       "    <tr>\n",
       "      <th>0</th>\n",
       "      <td>0</td>\n",
       "      <td>0</td>\n",
       "      <td>0</td>\n",
       "      <td>Nested satisfiability A special case of the s...</td>\n",
       "    </tr>\n",
       "    <tr>\n",
       "      <th>1</th>\n",
       "      <td>0</td>\n",
       "      <td>0</td>\n",
       "      <td>0</td>\n",
       "      <td>A note on digitized angles We study the confi...</td>\n",
       "    </tr>\n",
       "    <tr>\n",
       "      <th>2</th>\n",
       "      <td>0</td>\n",
       "      <td>0</td>\n",
       "      <td>0</td>\n",
       "      <td>Textbook examples of recursion We discuss pro...</td>\n",
       "    </tr>\n",
       "    <tr>\n",
       "      <th>3</th>\n",
       "      <td>0</td>\n",
       "      <td>0</td>\n",
       "      <td>0</td>\n",
       "      <td>Theory and practice The author argues to Sili...</td>\n",
       "    </tr>\n",
       "    <tr>\n",
       "      <th>4</th>\n",
       "      <td>0</td>\n",
       "      <td>0</td>\n",
       "      <td>0</td>\n",
       "      <td>Context-free multilanguages This article is a...</td>\n",
       "    </tr>\n",
       "  </tbody>\n",
       "</table>\n",
       "</div>"
      ],
      "text/plain": [
       "   InfoTheory  CompVis  Math  \\\n",
       "0           0        0     0   \n",
       "1           0        0     0   \n",
       "2           0        0     0   \n",
       "3           0        0     0   \n",
       "4           0        0     0   \n",
       "\n",
       "                                            Abstract  \n",
       "0   Nested satisfiability A special case of the s...  \n",
       "1   A note on digitized angles We study the confi...  \n",
       "2   Textbook examples of recursion We discuss pro...  \n",
       "3   Theory and practice The author argues to Sili...  \n",
       "4   Context-free multilanguages This article is a...  "
      ]
     },
     "execution_count": 2,
     "metadata": {},
     "output_type": "execute_result"
    }
   ],
   "source": [
    "# loading the training dataset\n",
    "df_train = pd.read_csv(\"axcs_train.csv\")\n",
    "df_train = df_train[['InfoTheory', 'CompVis', 'Math', 'Abstract']]\n",
    "df_train.head()"
   ]
  },
  {
   "cell_type": "code",
   "execution_count": 3,
   "metadata": {},
   "outputs": [
    {
     "name": "stdout",
     "output_type": "stream",
     "text": [
      "<class 'pandas.core.frame.DataFrame'>\n",
      "RangeIndex: 54731 entries, 0 to 54730\n",
      "Data columns (total 4 columns):\n",
      " #   Column      Non-Null Count  Dtype \n",
      "---  ------      --------------  ----- \n",
      " 0   InfoTheory  54731 non-null  int64 \n",
      " 1   CompVis     54731 non-null  int64 \n",
      " 2   Math        54731 non-null  int64 \n",
      " 3   Abstract    54731 non-null  object\n",
      "dtypes: int64(3), object(1)\n",
      "memory usage: 1.7+ MB\n"
     ]
    }
   ],
   "source": [
    "df_train.info() #checkingll the structure of training data"
   ]
  },
  {
   "cell_type": "code",
   "execution_count": 5,
   "metadata": {},
   "outputs": [
    {
     "name": "stdout",
     "output_type": "stream",
     "text": [
      "the shape of training:  (54731, 4)\n"
     ]
    }
   ],
   "source": [
    "print('the shape of training: ', df_train.shape)"
   ]
  },
  {
   "cell_type": "markdown",
   "metadata": {},
   "source": [
    "**Testing data**"
   ]
  },
  {
   "cell_type": "code",
   "execution_count": 7,
   "metadata": {},
   "outputs": [
    {
     "data": {
      "text/html": [
       "<div>\n",
       "<style scoped>\n",
       "    .dataframe tbody tr th:only-of-type {\n",
       "        vertical-align: middle;\n",
       "    }\n",
       "\n",
       "    .dataframe tbody tr th {\n",
       "        vertical-align: top;\n",
       "    }\n",
       "\n",
       "    .dataframe thead th {\n",
       "        text-align: right;\n",
       "    }\n",
       "</style>\n",
       "<table border=\"1\" class=\"dataframe\">\n",
       "  <thead>\n",
       "    <tr style=\"text-align: right;\">\n",
       "      <th></th>\n",
       "      <th>InfoTheory</th>\n",
       "      <th>CompVis</th>\n",
       "      <th>Math</th>\n",
       "      <th>Abstract</th>\n",
       "    </tr>\n",
       "  </thead>\n",
       "  <tbody>\n",
       "    <tr>\n",
       "      <th>0</th>\n",
       "      <td>0.0</td>\n",
       "      <td>0.0</td>\n",
       "      <td>0.0</td>\n",
       "      <td>A Data Transparency Framework for Mobile Appl...</td>\n",
       "    </tr>\n",
       "    <tr>\n",
       "      <th>1</th>\n",
       "      <td>0.0</td>\n",
       "      <td>0.0</td>\n",
       "      <td>0.0</td>\n",
       "      <td>A reclaimer scheduling problem arising in coa...</td>\n",
       "    </tr>\n",
       "    <tr>\n",
       "      <th>2</th>\n",
       "      <td>0.0</td>\n",
       "      <td>0.0</td>\n",
       "      <td>1.0</td>\n",
       "      <td>Communication-Efficient Distributed Optimizat...</td>\n",
       "    </tr>\n",
       "    <tr>\n",
       "      <th>3</th>\n",
       "      <td>0.0</td>\n",
       "      <td>0.0</td>\n",
       "      <td>0.0</td>\n",
       "      <td>Consistent Classification Algorithms for Mult...</td>\n",
       "    </tr>\n",
       "    <tr>\n",
       "      <th>4</th>\n",
       "      <td>0.0</td>\n",
       "      <td>0.0</td>\n",
       "      <td>0.0</td>\n",
       "      <td>Managing key multicasting through orthogonal ...</td>\n",
       "    </tr>\n",
       "  </tbody>\n",
       "</table>\n",
       "</div>"
      ],
      "text/plain": [
       "   InfoTheory  CompVis  Math  \\\n",
       "0         0.0      0.0   0.0   \n",
       "1         0.0      0.0   0.0   \n",
       "2         0.0      0.0   1.0   \n",
       "3         0.0      0.0   0.0   \n",
       "4         0.0      0.0   0.0   \n",
       "\n",
       "                                            Abstract  \n",
       "0   A Data Transparency Framework for Mobile Appl...  \n",
       "1   A reclaimer scheduling problem arising in coa...  \n",
       "2   Communication-Efficient Distributed Optimizat...  \n",
       "3   Consistent Classification Algorithms for Mult...  \n",
       "4   Managing key multicasting through orthogonal ...  "
      ]
     },
     "execution_count": 7,
     "metadata": {},
     "output_type": "execute_result"
    }
   ],
   "source": [
    "# loading the testing dataset\n",
    "df_test = pd.read_csv(\"axcs_test.csv\")\n",
    "df_test = df_test[['InfoTheory', 'CompVis', 'Math', 'Abstract']]\n",
    "df_test = df_test.dropna() \n",
    "df_test.head()"
   ]
  },
  {
   "cell_type": "code",
   "execution_count": 8,
   "metadata": {},
   "outputs": [
    {
     "name": "stdout",
     "output_type": "stream",
     "text": [
      "<class 'pandas.core.frame.DataFrame'>\n",
      "Int64Index: 19678 entries, 0 to 19678\n",
      "Data columns (total 4 columns):\n",
      " #   Column      Non-Null Count  Dtype  \n",
      "---  ------      --------------  -----  \n",
      " 0   InfoTheory  19678 non-null  float64\n",
      " 1   CompVis     19678 non-null  float64\n",
      " 2   Math        19678 non-null  float64\n",
      " 3   Abstract    19678 non-null  object \n",
      "dtypes: float64(3), object(1)\n",
      "memory usage: 768.7+ KB\n"
     ]
    }
   ],
   "source": [
    "df_test.info() #checking the structure of testing data"
   ]
  },
  {
   "cell_type": "code",
   "execution_count": 9,
   "metadata": {},
   "outputs": [
    {
     "name": "stdout",
     "output_type": "stream",
     "text": [
      "the shape of training:  (19678, 4)\n"
     ]
    }
   ],
   "source": [
    "print('the shape of training: ', df_test.shape)"
   ]
  },
  {
   "cell_type": "markdown",
   "metadata": {},
   "source": [
    "### Text pre-processing\n",
    "\n",
    "**Spacy text pre-processing**\n",
    "\n",
    "This notebook uses spacy to preform basic text precessing using ***en_core_web_sm*** model:\n",
    "- Lemmination of text using token.lemma_\n",
    "- removing stopwords from text using token.is_stop"
   ]
  },
  {
   "cell_type": "code",
   "execution_count": 35,
   "metadata": {},
   "outputs": [],
   "source": [
    "# function to preform basic text pre-porcessing\n",
    "def cleaning(text):  \n",
    "    nlp = spacy.load('en_core_web_sm') # loading the spacy model\n",
    "    doc = nlp(text) # applying the spacy model on text data\n",
    "    tokens = [token.lemma_ for token in doc if not token.is_stop] # lemmation and removing stop words\n",
    "    return \" \".join(tokens) # return the text "
   ]
  },
  {
   "cell_type": "code",
   "execution_count": 10,
   "metadata": {},
   "outputs": [
    {
     "name": "stdout",
     "output_type": "stream",
     "text": [
      "Training Data: \n",
      "    InfoTheory  CompVis  Math  \\\n",
      "0           0        0     0   \n",
      "1           0        0     0   \n",
      "2           0        0     0   \n",
      "3           0        0     0   \n",
      "4           0        0     0   \n",
      "\n",
      "                                            Abstract  \\\n",
      "0   Nested satisfiability A special case of the s...   \n",
      "1   A note on digitized angles We study the confi...   \n",
      "2   Textbook examples of recursion We discuss pro...   \n",
      "3   Theory and practice The author argues to Sili...   \n",
      "4   Context-free multilanguages This article is a...   \n",
      "\n",
      "                                      Abstract_clean  \n",
      "0    nest satisfiability special case satisfiabil...  \n",
      "1    note digitized angle study configuration pix...  \n",
      "2    textbook example recursion discuss property ...  \n",
      "3    theory practice author argue Silicon Valley ...  \n",
      "4    context - free multilanguage article sketch ...  \n",
      "\n",
      "\n",
      "Wall time: 54min 41s\n"
     ]
    }
   ],
   "source": [
    "%%time \n",
    "# Cleaning the training Abstract\n",
    "df_train['Abstract_clean']= df_train.Abstract.apply(lambda x: cleaning(x))\n",
    "print('Training Data: \\n',df_train.head())\n",
    "print('\\n')"
   ]
  },
  {
   "cell_type": "code",
   "execution_count": 11,
   "metadata": {},
   "outputs": [
    {
     "name": "stdout",
     "output_type": "stream",
     "text": [
      "Testing Data: \n",
      "    InfoTheory  CompVis  Math  \\\n",
      "0         0.0      0.0   0.0   \n",
      "1         0.0      0.0   0.0   \n",
      "2         0.0      0.0   1.0   \n",
      "3         0.0      0.0   0.0   \n",
      "4         0.0      0.0   0.0   \n",
      "\n",
      "                                            Abstract  \\\n",
      "0   A Data Transparency Framework for Mobile Appl...   \n",
      "1   A reclaimer scheduling problem arising in coa...   \n",
      "2   Communication-Efficient Distributed Optimizat...   \n",
      "3   Consistent Classification Algorithms for Mult...   \n",
      "4   Managing key multicasting through orthogonal ...   \n",
      "\n",
      "                                      Abstract_clean  \n",
      "0    Data Transparency Framework Mobile Applicati...  \n",
      "1    reclaimer scheduling problem arise coal stoc...  \n",
      "2    communication - Efficient Distributed Optimi...  \n",
      "3    Consistent Classification Algorithms multi -...  \n",
      "4    manage key multicasting orthogonal system pa...  \n"
     ]
    }
   ],
   "source": [
    "# Cleaning the testing Abstract\n",
    "df_test['Abstract_clean']= df_test.Abstract.apply(lambda x: cleaning(x))\n",
    "print('Testing Data: \\n',df_test.head())"
   ]
  },
  {
   "cell_type": "markdown",
   "metadata": {},
   "source": [
    "**Keras Text pre-porcessing** \n",
    "\n",
    "Using ***Keras*** to tokenize, pre process and convert into sequence the data using the following function:\n",
    "- **Tokenizer()**: Tokenize the stentence into words.\n",
    "- **fit_on_texts()**: Convert the words to lovercase, remove punctuation, digits, letters with digits.\n",
    "- **text_to_sequences()**: Encode the words into sequences that can be used by neural network embeing layer to convert into word embedding."
   ]
  },
  {
   "cell_type": "code",
   "execution_count": 12,
   "metadata": {},
   "outputs": [
    {
     "name": "stdout",
     "output_type": "stream",
     "text": [
      "Training tokens sequence: \n",
      " [[   47    49  2032 ...   244  2601   130]\n",
      " [ 9552  1587    23 ...  2452   400  1105]\n",
      " [  341    10   708 ...   313   364  1741]\n",
      " ...\n",
      " [  828 41526   868 ... 41526    15   880]\n",
      " [   26   102   339 ... 19915 16646   267]\n",
      " [  111     4   143 ...  3254    12    10]]\n"
     ]
    }
   ],
   "source": [
    "maxlen = 10 \n",
    "# Tokenizing\n",
    "tokenizer = Tokenizer(oov_token = True)\n",
    "# fitting the tokenizer on text\n",
    "tokenizer.fit_on_texts(df_train.Abstract_clean)\n",
    "# converting the words to sequence\n",
    "X_train = tokenizer.texts_to_sequences(df_train.Abstract_clean)\n",
    "# usiingpadding to generating dummy values o that all words have equal encoding\n",
    "X_train = pad_sequences(X_train , padding='post', maxlen=maxlen)\n",
    "# printing the training words sequence\n",
    "print('Training tokens sequence: \\n', X_train)"
   ]
  },
  {
   "cell_type": "code",
   "execution_count": 13,
   "metadata": {},
   "outputs": [
    {
     "name": "stdout",
     "output_type": "stream",
     "text": [
      "Testing tokens sequence: \n",
      " [[ 193   54   22 ...  578  493   95]\n",
      " [ 147    2  759 ...  235  131    2]\n",
      " [  81  876    2 ... 3721   18  175]\n",
      " ...\n",
      " [  23 2299   16 ... 1006 3227   54]\n",
      " [5505 5536  268 ...   30  157   14]\n",
      " [ 457  262  169 ...  646  133 2647]]\n"
     ]
    }
   ],
   "source": [
    "# Tokenizing\n",
    "tokenizer2 = Tokenizer(oov_token = True)\n",
    "# fitting the tokenizer on text\n",
    "tokenizer2.fit_on_texts(df_test.Abstract_clean)\n",
    "# converting the words to sequence\n",
    "X_test = tokenizer2.texts_to_sequences(df_test.Abstract_clean)\n",
    "# usiingpadding to generating dummy values o that all words have equal encoding\n",
    "X_test = pad_sequences(X_test , padding='post', maxlen=maxlen)\n",
    "# printing the training words sequence\n",
    "print('Testing tokens sequence: \\n', X_test)"
   ]
  },
  {
   "cell_type": "markdown",
   "metadata": {},
   "source": [
    "Get the size of vocublary, using ***tokenizer.word_index***."
   ]
  },
  {
   "cell_type": "code",
   "execution_count": 14,
   "metadata": {},
   "outputs": [
    {
     "name": "stdout",
     "output_type": "stream",
     "text": [
      "Training Vocublary Size:  68807\n",
      "Testing Vovublar size:  40161\n"
     ]
    }
   ],
   "source": [
    "# getting the vocublary\n",
    "vocab_size = len(tokenizer.word_index) + 1\n",
    "print('Training Vocublary Size: ',vocab_size)\n",
    "vocab_size2 = len(tokenizer.word_index) + 1\n",
    "print('Testing Vovublar size: ', vocab_size2)"
   ]
  },
  {
   "cell_type": "markdown",
   "metadata": {},
   "source": [
    "### Part 1: Deep Learning Method\n",
    "\n",
    "#### Builing a LSTM text classifier using Keras:\n",
    "\n",
    "- The model is keras ***Sequential model***.\n",
    "- The layers are added using ***model.add()*** function.\n",
    "- The model is complied using ***model.compile()*** function.\n",
    "- The model summary can be printed using the ***model.summary()*** function."
   ]
  },
  {
   "cell_type": "code",
   "execution_count": 28,
   "metadata": {},
   "outputs": [],
   "source": [
    "#  lots of Python code here"
   ]
  },
  {
   "cell_type": "code",
   "execution_count": 175,
   "metadata": {},
   "outputs": [
    {
     "name": "stderr",
     "output_type": "stream",
     "text": [
      "C:\\Users\\Mohsin Khan\\Anaconda3\\envs\\deeplearning\\lib\\site-packages\\ipykernel_launcher.py:10: UserWarning:\n",
      "\n",
      "The `dropout` argument is no longer support in `Embedding`. You can apply a `keras.layers.SpatialDropout1D` layer right after the `Embedding` layer to get the same behavior.\n",
      "\n",
      "C:\\Users\\Mohsin Khan\\Anaconda3\\envs\\deeplearning\\lib\\site-packages\\ipykernel_launcher.py:14: UserWarning:\n",
      "\n",
      "Update your `LSTM` call to the Keras 2 API: `LSTM(200, dropout=0.2, recurrent_dropout=0.2)`\n",
      "\n"
     ]
    },
    {
     "name": "stdout",
     "output_type": "stream",
     "text": [
      "Model: \"sequential_2\"\n",
      "_________________________________________________________________\n",
      "Layer (type)                 Output Shape              Param #   \n",
      "=================================================================\n",
      "embedding_2 (Embedding)      (None, 10, 50)            3440350   \n",
      "_________________________________________________________________\n",
      "lstm_2 (LSTM)                (None, 200)               200800    \n",
      "_________________________________________________________________\n",
      "dense_3 (Dense)              (None, 10)                2010      \n",
      "_________________________________________________________________\n",
      "dense_4 (Dense)              (None, 1)                 11        \n",
      "=================================================================\n",
      "Total params: 3,643,171\n",
      "Trainable params: 3,643,171\n",
      "Non-trainable params: 0\n",
      "_________________________________________________________________\n"
     ]
    }
   ],
   "source": [
    "embedding_dim = 50 # specifying the embedding dimensions\n",
    "lstm_out = 200 # specifying LSTM output dimesnions\n",
    "\n",
    "# creating a sequential model\n",
    "model = Sequential()\n",
    "# adding the embedding layer\n",
    "model.add(Embedding(input_dim=vocab_size, \n",
    "                           output_dim=embedding_dim, \n",
    "                           input_length=maxlen,\n",
    "                           dropout = 0.2))\n",
    "# adding the lstm layer\n",
    "model.add(LSTM(lstm_out, \n",
    "               dropout_U = 0.2, \n",
    "               dropout_W = 0.2))\n",
    "# model.add(layers.Flatten())\n",
    "# adding the dense layer with relu activation\n",
    "model.add(Dense(10, \n",
    "                activation='relu'))\n",
    "# adding the output layer with sigmoid activation\n",
    "model.add(Dense(1, \n",
    "                activation='sigmoid'))\n",
    "# compiling the model\n",
    "model.compile(optimizer='adam',\n",
    "              loss='binary_crossentropy',\n",
    "              metrics=['accuracy'])\n",
    "# summary of the model\n",
    "model.summary()"
   ]
  },
  {
   "cell_type": "markdown",
   "metadata": {},
   "source": [
    "**Description of model layers:**\n",
    "- Embedding layer(): Embedding layer is used to as the base layer which take in the input sequence of words and preforms word embedding. The vocublary size is set to the vocublary size of the training set. the output is of 50 dimesion and is fed into LSTM layer.\n",
    "- LSTM layer as the second layer of the model which take in the embeded text and processes it and outputs it to the next layer with dimesions of 200.\n",
    "- Dense layer with 10 output dimesions and using relu activation function.\n",
    "- Dense layer with 1 dimenstions is used as the output layer.\n"
   ]
  },
  {
   "cell_type": "code",
   "execution_count": 176,
   "metadata": {},
   "outputs": [],
   "source": [
    "## Creating the traing and testing labels list\n",
    "y_train = [df_train.InfoTheory, df_train.CompVis, df_train.Math]\n",
    "y_test = [df_test.InfoTheory, df_test.CompVis, df_test.Math]"
   ]
  },
  {
   "cell_type": "markdown",
   "metadata": {},
   "source": [
    "Now that the neural network model is created:\n",
    "- Fit the model using ***model.fit()*** function.\n",
    "- Calculate the confusion matrix.\n",
    "- Calculate the training and testing accuraies and loss error."
   ]
  },
  {
   "cell_type": "code",
   "execution_count": 177,
   "metadata": {},
   "outputs": [
    {
     "name": "stderr",
     "output_type": "stream",
     "text": [
      "C:\\Users\\Mohsin Khan\\Anaconda3\\envs\\deeplearning\\lib\\site-packages\\ipykernel_launcher.py:13: UserWarning:\n",
      "\n",
      "The `nb_epoch` argument in `fit` has been renamed `epochs`.\n",
      "\n"
     ]
    },
    {
     "name": "stdout",
     "output_type": "stream",
     "text": [
      "Neural Network LSTM Classification Model\n",
      "Confusion Matrix:\n",
      "[[14685  1377]\n",
      " [ 3222   394]]\n",
      "Train Accuracy : 0.9279384613037109\n",
      "Train % loss:  0.19008921547387098\n",
      "Test Accuracy : 0.7662872076034546\n",
      "Test % loss:  0.6946898630048483\n",
      "----------------------------------------\n"
     ]
    },
    {
     "name": "stderr",
     "output_type": "stream",
     "text": [
      "C:\\Users\\Mohsin Khan\\Anaconda3\\envs\\deeplearning\\lib\\site-packages\\ipykernel_launcher.py:13: UserWarning:\n",
      "\n",
      "The `nb_epoch` argument in `fit` has been renamed `epochs`.\n",
      "\n"
     ]
    },
    {
     "name": "stdout",
     "output_type": "stream",
     "text": [
      "Neural Network LSTM Classification Model\n",
      "Confusion Matrix:\n",
      "[[17464    62]\n",
      " [ 2138    14]]\n",
      "Train Accuracy : 0.9748405814170837\n",
      "Train % loss:  0.07180672200800864\n",
      "Test Accuracy : 0.888200044631958\n",
      "Test % loss:  0.5302289833545394\n",
      "----------------------------------------\n",
      "Neural Network LSTM Classification Model\n",
      "Confusion Matrix:\n",
      "[[11471  2277]\n",
      " [ 4816  1114]]\n",
      "Train Accuracy : 0.8672598600387573\n",
      "Train % loss:  0.32237403102037915\n",
      "Test Accuracy : 0.6395466923713684\n",
      "Test % loss:  0.7461339626713053\n",
      "----------------------------------------\n"
     ]
    }
   ],
   "source": [
    "# Evaluating the model preformance on training and testing accuracy, loss and confusion matrix\n",
    "batch_size = 32\n",
    "\n",
    "## foop though the training a testing labels list\n",
    "for ytrain, ytest in zip(y_train, y_test):\n",
    "    ytrain = np.expand_dims(ytrain, axis=-1) # converting the train labesl to sutaible dimensions\n",
    "    ytest = np.expand_dims(ytest, axis=-1) # converting the train labesl to sutaible dimensions\n",
    "    # Fitting the model on train data\n",
    "    model.fit(X_train, ytrain, \n",
    "              batch_size = batch_size, \n",
    "              nb_epoch = 1, \n",
    "              validation_data = (X_test, ytest),\n",
    "              verbose = False)\n",
    "    # predictiong the model on test data\n",
    "    predict  = model.predict(X_test)\n",
    "    # taking predictions greater then 0.5 \n",
    "    y_pred = (predict > 0.5)\n",
    "    print('Neural Network LSTM Classification Model')\n",
    "    print('Confusion Matrix:')\n",
    "    # Creating the confusion matrix using testing labels and predictied labels\n",
    "    cm = confusion_matrix(ytest, y_pred)\n",
    "    print(cm)\n",
    "    # Calculating the training accuracies\n",
    "    loss, accuracy = model.evaluate(X_train, ytrain, verbose=False)\n",
    "    print('Train Accuracy :', accuracy)\n",
    "    print('Train % loss: ', loss)\n",
    "    # Calculating the testing accuracies\n",
    "    loss, accuracy = model.evaluate(X_test, ytest, verbose=False)\n",
    "    print('Test Accuracy :', accuracy)\n",
    "    print('Test % loss: ', loss)\n",
    "    print('-'*40)"
   ]
  },
  {
   "cell_type": "markdown",
   "metadata": {},
   "source": [
    "#### Results for Method\n",
    "\n",
    "Full confusion matrix for method on InfoTheory:\n",
    "\n",
    "|              | Pred=True | Pred=False |\n",
    "| -----------  | ----------- | ----------- |\n",
    "| **Actual=True**  | 55       |   27  |\n",
    "| **Actual=False** | 34        |   400 |\n",
    "\n",
    "Full confusion matrix for method on CompVis:\n",
    "\n",
    "|              | Pred=True | Pred=False |\n",
    "| -----------  | ----------- | ----------- |\n",
    "| **Actual=True**  | 55       |   27  |\n",
    "| **Actual=False** | 34        |   400 |\n",
    "\n",
    "Full confusion matrix for method on Math:\n",
    "\n",
    "|              | Pred=True | Pred=False |\n",
    "| -----------  | ----------- | ----------- |\n",
    "| **Actual=True**  | 55       |   27  |\n",
    "| **Actual=False** | 34        |   400 |\n"
   ]
  },
  {
   "cell_type": "markdown",
   "metadata": {},
   "source": [
    "### Part 1: Machine Learning Method\n",
    "\n",
    "Comparing results of various Text Classification algorithms from sklearn package.\n",
    "\n",
    "Reasons to choose LinearSVM over other randomforest:\n",
    "- As the data set is all catagorical, LinearSVM is better choice over randomforest which is a multiclass classifier.\n",
    "- SVM maximizes the margin and thus relies on the distance between different word vectos.\n",
    "- less strain on memor requirements."
   ]
  },
  {
   "cell_type": "code",
   "execution_count": 19,
   "metadata": {},
   "outputs": [],
   "source": [
    "#  lots of Python code here"
   ]
  },
  {
   "cell_type": "markdown",
   "metadata": {},
   "source": [
    "Create a Lemmination class for for processing using nltk:\n",
    "- lemmination using ***wordNetLemmatizer*** from **NLTK**.\n",
    "- tokenization using ***word_tokenizer*** from **NLTK**."
   ]
  },
  {
   "cell_type": "code",
   "execution_count": 11,
   "metadata": {},
   "outputs": [],
   "source": [
    "# Preporcessing class\n",
    "class LemmaTokenizer(object):\n",
    "    def __init__(self):\n",
    "        self.wnl=WordNetLemmatizer()\n",
    "    def __call__(self,doc):\n",
    "        return [self.wnl.lemmatize(t) for t in word_tokenize(doc)]"
   ]
  },
  {
   "cell_type": "markdown",
   "metadata": {},
   "source": [
    "In the Neural network model, the pre proceesing was done dynamically using keras inbuilld transformation functions. In order to use the processed data we make use of **TfidfVectorizer** from **sklearn** package."
   ]
  },
  {
   "cell_type": "code",
   "execution_count": 12,
   "metadata": {},
   "outputs": [],
   "source": [
    "# Vectorizer\n",
    "vectorizer = TfidfVectorizer(analyzer='word',input='content',\n",
    "                           lowercase=True,\n",
    "                           token_pattern='(?u)\\\\b\\\\w\\\\w+\\\\b',\n",
    "                           min_df=3,\n",
    "                           ngram_range=(1,2),\n",
    "                           tokenizer=LemmaTokenizer())"
   ]
  },
  {
   "cell_type": "markdown",
   "metadata": {},
   "source": [
    "Fit the vectoriziaer on the training dataset"
   ]
  },
  {
   "cell_type": "code",
   "execution_count": 13,
   "metadata": {},
   "outputs": [],
   "source": [
    "# Vectorize the training dataset\n",
    "x_train = vectorizer.fit_transform(df_train.Abstract.tolist())"
   ]
  },
  {
   "cell_type": "markdown",
   "metadata": {},
   "source": [
    "Fit the vectoriziaer on the testing dataset"
   ]
  },
  {
   "cell_type": "code",
   "execution_count": 14,
   "metadata": {},
   "outputs": [],
   "source": [
    "# Vectorize the testing dataset\n",
    "x_test=vectorizer.transform(df_test.Abstract.tolist())"
   ]
  },
  {
   "cell_type": "markdown",
   "metadata": {},
   "source": [
    "Convert the target columns to list and transform the dimensions using **numpy**."
   ]
  },
  {
   "cell_type": "code",
   "execution_count": 60,
   "metadata": {},
   "outputs": [],
   "source": [
    "# Convert the training traget variables and change their dimensions\n",
    "y_train_InfoTheory = np.asarray(df_train.InfoTheory.tolist())\n",
    "y_train_CompVis = np.asarray(df_train.CompVis.tolist())\n",
    "y_train_Math = np.asarray(df_train.Math.tolist())\n",
    "# Create a list of all target variables\n",
    "y_train = [y_train_InfoTheory, y_train_CompVis, y_train_Math]\n",
    "\n",
    "# Convert the testing traget variables and change their dimensions\n",
    "y_test_InfoTheory = np.asarray(df_test.InfoTheory.tolist())\n",
    "y_test_CompVis = np.asarray(df_test.CompVis.tolist())\n",
    "y_test_Math = np.asarray(df_test.Math.tolist())\n",
    "# Create a list of all target variables\n",
    "y_test = [y_test_InfoTheory, y_test_CompVis, y_test_Math]"
   ]
  },
  {
   "cell_type": "markdown",
   "metadata": {},
   "source": [
    "#### Comparing various models:"
   ]
  },
  {
   "cell_type": "code",
   "execution_count": 65,
   "metadata": {},
   "outputs": [
    {
     "data": {
      "image/png": "[encoded data removed]",
      "text/plain": [
       "<Figure size 576x576 with 1 Axes>"
      ]
     },
     "metadata": {
      "needs_background": "light"
     },
     "output_type": "display_data"
    }
   ],
   "source": [
    "models = [\n",
    "    LogisticRegression(max_iter=1000),\n",
    "    BernoulliNB(),\n",
    "    LinearSVC()\n",
    "]\n",
    "\n",
    "## Comparing models for Infotheory\n",
    "CV = 10\n",
    "cv_df = pd.DataFrame(index=range(CV * len(models)))\n",
    "entries = []\n",
    "for model in models:\n",
    "    model_name = model.__class__.__name__\n",
    "    accuracies = cross_val_score(model, x_train, y_train_InfoTheory, scoring='accuracy', cv=CV)\n",
    "    for fold_idx, accuracy in enumerate(accuracies):\n",
    "        entries.append((model_name, fold_idx, accuracy))\n",
    "            \n",
    "cv_df = pd.DataFrame(entries, columns=['model_name', 'fold_idx', 'accuracy'])\n",
    "#cv_df\n",
    "import seaborn as sns\n",
    "import matplotlib.pyplot as plt\n",
    "sns.boxplot(x='model_name', y='accuracy', data=cv_df)\n",
    "sns.stripplot(x='model_name', y='accuracy', data=cv_df, \n",
    "              size=8, jitter=True, edgecolor=\"gray\", linewidth=2)\n",
    "plt.show()"
   ]
  },
  {
   "cell_type": "code",
   "execution_count": 67,
   "metadata": {},
   "outputs": [
    {
     "data": {
      "image/png": "[encoded data removed]",
      "text/plain": [
       "<Figure size 576x576 with 1 Axes>"
      ]
     },
     "metadata": {
      "needs_background": "light"
     },
     "output_type": "display_data"
    }
   ],
   "source": [
    "## Comparing models for compVis\n",
    "CV = 10\n",
    "cv_df = pd.DataFrame(index=range(CV * len(models)))\n",
    "entries = []\n",
    "for model in models:\n",
    "    model_name = model.__class__.__name__\n",
    "    accuracies = cross_val_score(model, x_train, y_train_CompVis, scoring='accuracy', cv=CV)\n",
    "    for fold_idx, accuracy in enumerate(accuracies):\n",
    "        entries.append((model_name, fold_idx, accuracy))\n",
    "            \n",
    "cv_df = pd.DataFrame(entries, columns=['model_name', 'fold_idx', 'accuracy'])\n",
    "#cv_df\n",
    "import seaborn as sns\n",
    "import matplotlib.pyplot as plt\n",
    "sns.boxplot(x='model_name', y='accuracy', data=cv_df)\n",
    "sns.stripplot(x='model_name', y='accuracy', data=cv_df, \n",
    "              size=8, jitter=True, edgecolor=\"gray\", linewidth=2)\n",
    "plt.show()"
   ]
  },
  {
   "cell_type": "code",
   "execution_count": 68,
   "metadata": {},
   "outputs": [
    {
     "data": {
      "image/png": "[encoded data removed]",
      "text/plain": [
       "<Figure size 576x576 with 1 Axes>"
      ]
     },
     "metadata": {
      "needs_background": "light"
     },
     "output_type": "display_data"
    }
   ],
   "source": [
    "## Comparing models for Math\n",
    "CV = 10\n",
    "cv_df = pd.DataFrame(index=range(CV * len(models)))\n",
    "entries = []\n",
    "for model in models:\n",
    "    model_name = model.__class__.__name__\n",
    "    accuracies = cross_val_score(model, x_train, y_train_Math, scoring='accuracy', cv=CV)\n",
    "    for fold_idx, accuracy in enumerate(accuracies):\n",
    "        entries.append((model_name, fold_idx, accuracy))\n",
    "            \n",
    "cv_df = pd.DataFrame(entries, columns=['model_name', 'fold_idx', 'accuracy'])\n",
    "#cv_df\n",
    "import seaborn as sns\n",
    "import matplotlib.pyplot as plt\n",
    "sns.boxplot(x='model_name', y='accuracy', data=cv_df)\n",
    "sns.stripplot(x='model_name', y='accuracy', data=cv_df, \n",
    "              size=8, jitter=True, edgecolor=\"gray\", linewidth=2)\n",
    "plt.show()"
   ]
  },
  {
   "cell_type": "markdown",
   "metadata": {},
   "source": [
    "We can see that LinearSVC text classiier guives us the best accuracy"
   ]
  },
  {
   "cell_type": "markdown",
   "metadata": {},
   "source": [
    "## Best Model\n",
    "\n",
    "***def evaluate*** function is used to create and evalaute the model."
   ]
  },
  {
   "cell_type": "code",
   "execution_count": 57,
   "metadata": {},
   "outputs": [],
   "source": [
    "# Creating the model\n",
    "def evaluate(x_train, x_test, y_train, y_test):\n",
    "    model = LinearSVC() # difining the model\n",
    "    model.fit(x_train, y_train) # fiting the model on traing data\n",
    "    y_pred = model.predict(x_test) # predicting the model\n",
    "    cm = confusion_matrix(y_test,y_pred) # evaluate the confusion matrix\n",
    "    accuracy = accuracy_score(y_test,y_pred) # eavaluate the model accuracy\n",
    "    return (cm, accuracy) # return confussion matrix and accuracy"
   ]
  },
  {
   "cell_type": "markdown",
   "metadata": {},
   "source": [
    "#### Results of Method\n",
    "\n",
    "Full confusion matrix for method on InfoTheory, etc., as before"
   ]
  },
  {
   "cell_type": "code",
   "execution_count": 58,
   "metadata": {},
   "outputs": [
    {
     "name": "stdout",
     "output_type": "stream",
     "text": [
      "Confussion Matrix: \n",
      " [[15828   234]\n",
      " [  613  3003]]\n",
      "Testing Accuracy:  0.9569570078259986\n",
      "----------------------------------------\n",
      "Confussion Matrix: \n",
      " [[17450    76]\n",
      " [  498  1654]]\n",
      "Testing Accuracy:  0.9708303689399329\n",
      "----------------------------------------\n",
      "Confussion Matrix: \n",
      " [[12824   924]\n",
      " [ 1420  4510]]\n",
      "Testing Accuracy:  0.880882203475963\n",
      "----------------------------------------\n"
     ]
    }
   ],
   "source": [
    "## Evaluating the model\n",
    "for y_train, y_test in zip(y_train, y_test):\n",
    "    result = evaluate(x_train, x_test, y_train, y_test)\n",
    "    print(\"Confussion Matrix: \\n\", result[0])\n",
    "    print(\"Testing Accuracy: \", result[1])\n",
    "    print('-'*40)"
   ]
  }
 ],
 "metadata": {
  "kernelspec": {
   "display_name": "Python 3",
   "language": "python",
   "name": "python3"
  },
  "language_info": {
   "codemirror_mode": {
    "name": "ipython",
    "version": 3
   },
   "file_extension": ".py",
   "mimetype": "text/x-python",
   "name": "python",
   "nbconvert_exporter": "python",
   "pygments_lexer": "ipython3",
   "version": "3.7.7"
  }
 },
 "nbformat": 4,
 "nbformat_minor": 2
}
